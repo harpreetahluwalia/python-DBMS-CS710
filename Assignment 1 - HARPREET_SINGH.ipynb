{
 "cells": [
  {
   "cell_type": "markdown",
   "id": "9673c84e",
   "metadata": {},
   "source": [
    "# Assignment 1 - Python and Data Fundamentals\n",
    "\n",
    "#### Overview \n",
    "A simple DBMS system implemented in python. Here we will pass the basic SQL select statments to the program and it will return the outputs based on the table name and attributes specified in the query.\n",
    "\n",
    "<b> Author </b>: Harpreet Singh (github : https://github.com/harpreetahluwalia)<br> \n",
    "<b> Date of Creation</b> : 05/10/2021 \n"
   ]
  },
  {
   "cell_type": "markdown",
   "id": "6d86ffca",
   "metadata": {},
   "source": [
    "## Assignment 1.1 findTable() function\n",
    "#### Following function findTable which receives a simple SQL statement str as string and returns the name of the table after the from keyword.\n",
    "It takes a string as parameter and splits it on the basis on spaces and finds index after \"from\" keyword."
   ]
  },
  {
   "cell_type": "code",
   "execution_count": 1,
   "id": "74675287",
   "metadata": {},
   "outputs": [],
   "source": [
    "def findTable(self, str):\n",
    "    \n",
    "    \"\"\"\n",
    "    Receives a simple SQL statement str as string \n",
    "    and returns the name of the table after the from keyword.\n",
    "    \n",
    "    Parameters : \n",
    "        - str : a string variable which represents sql query.\n",
    "        \n",
    "    Returns :\n",
    "        - It returns the name of the table. \n",
    "    \n",
    "    \"\"\"\n",
    "    s = str.lower().split(\" \")       # Splitting the string by space after making it lowercase\n",
    "    tableIndex = s.index(\"from\")+1    # Getting index just after the \"from\" keyword in the query\n",
    "    return s[tableIndex]"
   ]
  },
  {
   "cell_type": "markdown",
   "id": "5ed884d9",
   "metadata": {},
   "source": [
    "## Assignment 1.2 getAttributes() function\n",
    "#### Following function getAttributes which returns the attributes of a select statement which are located between select and from statement.\n",
    "It takes string as a parameter and fetches the attributes list using index and returns the list."
   ]
  },
  {
   "cell_type": "code",
   "execution_count": 2,
   "id": "5c61161e",
   "metadata": {},
   "outputs": [],
   "source": [
    "def getAttributes(self, str):\n",
    "    \n",
    "    \"\"\"\n",
    "    It returns the attributes of a select statement,\n",
    "    which are located between select and from statement.\n",
    "    \n",
    "    Parameters : \n",
    "        - str : a string variable which represents sql query.\n",
    "    Returns : \n",
    "        - It returns the list of the attributes. \n",
    "    \"\"\"\n",
    "    \n",
    "    s = str.lower().split(\" \")      # Splitting the string by space after making it lowercase\n",
    "    aIndex1 = s.index(\"select\")+1\n",
    "    aIndex2 = s.index(\"from\")\n",
    "    attributesList = (\"\".join(s[aIndex1:aIndex2])).split(\",\") #Creating attributes list between 2 indexs (i.e between select and from)   \n",
    "    return attributesList\n"
   ]
  },
  {
   "cell_type": "markdown",
   "id": "53d927c5",
   "metadata": {},
   "source": [
    "## Assignment 1.3 Attributes class\n",
    "#### Attributes class holds the list of attributes from the query. \n",
    "It stores name and type of the given attribute which are initialized in the constructor "
   ]
  },
  {
   "cell_type": "code",
   "execution_count": 3,
   "id": "f3053099",
   "metadata": {},
   "outputs": [],
   "source": [
    "class Attributes:\n",
    "    \n",
    "    def __init__(self, name, type):\n",
    "        self.name = name\n",
    "        self.type = type"
   ]
  },
  {
   "cell_type": "markdown",
   "id": "8ad3deac",
   "metadata": {},
   "source": [
    "## Assignment 1.4 - Tables class\n",
    "#### Table class contains a list of “Attributes” named attributes and a list of lists called rows. Table also contains a name attribute.\n",
    "\n",
    "It contains list of \"Attributes\" and list of list called rows which are initilized in the constructor. There are also addRow() and addAtt() member functions to assign rows and attributes. There's also 2 getters getAtt() and getRow() to fetch the attributes and rows."
   ]
  },
  {
   "cell_type": "code",
   "execution_count": 4,
   "id": "f44e2744",
   "metadata": {},
   "outputs": [],
   "source": [
    "class Tables:\n",
    "\n",
    "    name = \"\"  \n",
    "    def __init__(self,name):\n",
    "        self.rows = []    # initializing rows with empty list\n",
    "        self.attributes = []   # initializing attributes with empty list\n",
    "        self.name = name\n",
    "        \n",
    "    def addRow(self,rows):\n",
    "        self.rows = rows[:]\n",
    "        \n",
    "    def addAtt(self,attributes):\n",
    "        self.attributes = attributes[:]\n",
    "        \n",
    "    def getAtt(self):\n",
    "        return self.attributes\n",
    "    \n",
    "    def getRow(self):\n",
    "        return self.rows"
   ]
  },
  {
   "cell_type": "markdown",
   "id": "6eb62390",
   "metadata": {},
   "source": [
    "## Assignment 1.5 - Database Class\n",
    "#### Database class contains a list of Tables called tables. It also contains 2 below member functions read() and select() which reads the data from csv and outputs the data based on the query respectively\n",
    "\n",
    "## Assignment 1.6 - read() function\n",
    "#### <b> Database.read (tablename, filename) :</b> \n",
    "It reads a CSV file provided in the \"filename\" which creates a table named \"tablename\" and adds it to its tables list. It creates the object of Attribute and Table class, and stores the data to specific object so that we can access it later in select() function. \n",
    "\n",
    "## Assignment 1.7 - select() function\n",
    "#### Database.select(query, count) : </b> \n",
    "It receives a simple select statement as \"query\" and returns the results as a formatted table up to \"count\" no. of rows. In this, findTable(str) and getAttributes(str) functions will be used to fetch table name and attributes. It uses specific table and attribute object to access the data from the Table and Attribute class. "
   ]
  },
  {
   "cell_type": "code",
   "execution_count": 5,
   "id": "9445a540",
   "metadata": {},
   "outputs": [],
   "source": [
    "class Database: \n",
    "    \n",
    "    def __init__(self):\n",
    "        self.tables = []       # initializing the tables list\n",
    "    j = 0\n",
    "    tablename = \"\"\n",
    "    values = []\n",
    "\n",
    "    def read(self, tablename, filename):\n",
    "\n",
    "        \"\"\"\n",
    "        Reads a CSV file provided in the \"filename\" which creates a table named \"tablename\" \n",
    "        and adds it to its tables list. It creates the object of Attribute and Table class, \n",
    "        and stores the data to specific object so that we can access it later in select() function.\n",
    "    \n",
    "        Parameters :\n",
    "        ----------\n",
    "            - tablename : name of the table\n",
    "            \n",
    "            - filename : name of the file from where data will be fetched.\n",
    "            \n",
    "        \"\"\"\n",
    "        flag = 0\n",
    "        self.tablename = tablename\n",
    "        rows = []\n",
    "        attributesList = []\n",
    "        f = open(filename, \"r\")   #opening the csv file and reading line by line \n",
    "        for x in f:\n",
    "            values = []\n",
    "            #stripping string with any newline operators at the end or spaces, and splitting by \",\"\n",
    "            x = x.strip()\n",
    "            splitStr = x.split(\",\")\n",
    "            if (flag == 0) :  # using flag to indentify the attributes row\n",
    "                for i in splitStr:\n",
    "                    # appending the Attribute class objects the attributesList\n",
    "                    attributesList.append(Attributes(i, type = \"String\"))\n",
    "                \n",
    "                flag = flag + 1\n",
    "                \n",
    "            else:\n",
    "                for i in splitStr:\n",
    "                    # Storing the table data to lists\n",
    "                    values.append(i) \n",
    "                rows.append(values)\n",
    "            \n",
    "            # Creating specific Table class object and adding rows and attributes using member functions of Tables class\n",
    "            \n",
    "        tableObj = Tables(tablename)   \n",
    "        tableObj.addRow(rows)\n",
    "        tableObj.addAtt(attributesList)\n",
    "        self.tables.append(tableObj)\n",
    "\n",
    "    def select(self, query,count = None):\n",
    "        \n",
    "        \"\"\"\n",
    "        Receives a simple select statement as \"query\" and returns the results as a formatted table up to \"count\" no. of rows. \n",
    "        In this, findTable(str) and getAttributes(str) functions will be used to fetch table name and attributes. \n",
    "        It uses specific table and attribute object to access the data from the Table and Attribute class.\n",
    "        \n",
    "        Parameters : \n",
    "        ----------\n",
    "            - query : It is select statment to fetch data. eg. select * from students\n",
    "            \n",
    "            - count : It represents no. of rows of data should be present.\n",
    "        \n",
    "        \"\"\"\n",
    " \n",
    "        tableName = findTable(self, query)    # Using fintTable function that returns tableName from query\n",
    "        queryAttribute = getAttributes(self, query) # Using getAttributes function that returns list of attributes from query\n",
    "        temp = 0\n",
    "        tableNames = []\n",
    "        for i in self.tables:\n",
    "            colNo = []\n",
    "            flag = 0\n",
    "            if i.name == tableName:\n",
    "                for attribute in queryAttribute:\n",
    "                    if attribute == \"*\":     # If attribute \"*\" is given in query it will print all the data and \"count\" variable becomes total lenth of table data rows.\n",
    "                        count = len(i.rows)\n",
    "                        for j in i.rows:\n",
    "                            for c,k in enumerate(j):\n",
    "                                colNo.append(c)\n",
    "                            break\n",
    "                    \n",
    "                    for index, tableAttribute in enumerate(i.getAtt()):\n",
    "                        if attribute.lower() == tableAttribute.name.lower():\n",
    "                            colNo.append(index)  # Getting the column number index of attributes present in the query\n",
    "                for j in range(len(i.rows)):\n",
    "                    if temp == count:\n",
    "                        break\n",
    "                    for col in colNo:\n",
    "                        if (flag == 0): # using flag to print the attributes row\n",
    "                            print(('\\033[1m' + i.attributes[col].name), \"\\t\\t\", end=\"\") # Printing  Attributes of table based on query\n",
    "                    flag += 1\n",
    "                    print(\"\\n\")\n",
    "                    for col in colNo:\n",
    "                        print('\\033[0m'+(i.rows[j][col]), \"\\t\\t\", end=\"\") # Printing  table rows based on query\n",
    "\n",
    "                    \n",
    "                    temp += 1\n",
    "\n",
    "                \n",
    "                print(\"\\n\\n\")\n",
    "           \n",
    "        for i in self.tables:\n",
    "            tableNames.append(i.name)\n",
    "            # If given TableName in query is not present in database, it will throw below output messege. \n",
    "        if tableName not in tableNames:   \n",
    "            print(\"Table name: \"+ '\\033[1m' + tableName + '\\033[0m' +\" Not Found, Please enter correct table name. \")\n",
    "        else:\n",
    "            pass\n",
    "        "
   ]
  },
  {
   "cell_type": "markdown",
   "id": "3b894d13",
   "metadata": {},
   "source": [
    "### Creating \"db\" object of class Database"
   ]
  },
  {
   "cell_type": "code",
   "execution_count": 6,
   "id": "33958fe9",
   "metadata": {},
   "outputs": [],
   "source": [
    "db = Database()"
   ]
  },
  {
   "cell_type": "markdown",
   "id": "3a7f5d95",
   "metadata": {},
   "source": [
    "### Reading table data from the file using read() function from Database class"
   ]
  },
  {
   "cell_type": "code",
   "execution_count": 7,
   "id": "e346b9dc",
   "metadata": {},
   "outputs": [],
   "source": [
    "db.read(\"students\", \"studentData.csv\")"
   ]
  },
  {
   "cell_type": "markdown",
   "id": "49defddb",
   "metadata": {},
   "source": [
    "### Passing the query to select() function \n",
    "Calling the select function using db object of Database class.<br>\n",
    "Here we are passing query <b>\"select * from students\"</b>, hence its printing all the table data from <b>students</b> table"
   ]
  },
  {
   "cell_type": "code",
   "execution_count": 8,
   "id": "2c3d9d85",
   "metadata": {
    "scrolled": false
   },
   "outputs": [
    {
     "name": "stdout",
     "output_type": "stream",
     "text": [
      "\u001b[1mID \t\t\u001b[1mName \t\t\u001b[1mAge \t\t\n",
      "\n",
      "\u001b[0m1 \t\t\u001b[0mJohn \t\t\u001b[0m20 \t\t\n",
      "\n",
      "\u001b[0m2 \t\t\u001b[0mMary \t\t\u001b[0m19 \t\t\n",
      "\n",
      "\u001b[0m3 \t\t\u001b[0mAlex \t\t\u001b[0m20 \t\t\n",
      "\n",
      "\u001b[0m4 \t\t\u001b[0mHarry \t\t\u001b[0m21 \t\t\n",
      "\n",
      "\u001b[0m5 \t\t\u001b[0mRahul \t\t\u001b[0m46 \t\t\n",
      "\n",
      "\u001b[0m6 \t\t\u001b[0mHarry \t\t\u001b[0m21 \t\t\n",
      "\n",
      "\u001b[0m7 \t\t\u001b[0mJason \t\t\u001b[0m65 \t\t\n",
      "\n",
      "\u001b[0m8 \t\t\u001b[0mMatt \t\t\u001b[0m31 \t\t\n",
      "\n",
      "\n"
     ]
    }
   ],
   "source": [
    "db.select(\"select * from students\")"
   ]
  },
  {
   "cell_type": "markdown",
   "id": "b7ab46bb",
   "metadata": {},
   "source": [
    "### Using query with attribute names\n",
    "Here we are passing the query <b>\"select Name,age from students\"</b> and count value is passed as 5. <br>\n",
    "Thus, its printing columns of name and age.<br>\n",
    "Count of rows is also 5 as passed in parameter.<br><br>\n",
    "<i> Note : Query is case insenstive. eg. for attributes, we can use nAME, AgE etc., It will print the required result. </i>"
   ]
  },
  {
   "cell_type": "code",
   "execution_count": 9,
   "id": "665f610f",
   "metadata": {},
   "outputs": [
    {
     "name": "stdout",
     "output_type": "stream",
     "text": [
      "\u001b[1mName \t\t\u001b[1mAge \t\t\n",
      "\n",
      "\u001b[0mJohn \t\t\u001b[0m20 \t\t\n",
      "\n",
      "\u001b[0mMary \t\t\u001b[0m19 \t\t\n",
      "\n",
      "\u001b[0mAlex \t\t\u001b[0m20 \t\t\n",
      "\n",
      "\u001b[0mHarry \t\t\u001b[0m21 \t\t\n",
      "\n",
      "\u001b[0mRahul \t\t\u001b[0m46 \t\t\n",
      "\n",
      "\n"
     ]
    }
   ],
   "source": [
    "db.select(\"select Name,age from students\",5)"
   ]
  },
  {
   "cell_type": "code",
   "execution_count": 10,
   "id": "4616c50f",
   "metadata": {},
   "outputs": [
    {
     "name": "stdout",
     "output_type": "stream",
     "text": [
      "\u001b[1mName \t\t\u001b[1mID \t\t\u001b[1mAge \t\t\n",
      "\n",
      "\u001b[0mJohn \t\t\u001b[0m1 \t\t\u001b[0m20 \t\t\n",
      "\n",
      "\u001b[0mMary \t\t\u001b[0m2 \t\t\u001b[0m19 \t\t\n",
      "\n",
      "\u001b[0mAlex \t\t\u001b[0m3 \t\t\u001b[0m20 \t\t\n",
      "\n",
      "\u001b[0mHarry \t\t\u001b[0m4 \t\t\u001b[0m21 \t\t\n",
      "\n",
      "\u001b[0mRahul \t\t\u001b[0m5 \t\t\u001b[0m46 \t\t\n",
      "\n",
      "\n"
     ]
    }
   ],
   "source": [
    "db.select(\"select Name,id,age from students\",5)"
   ]
  },
  {
   "cell_type": "markdown",
   "id": "c8a6cec5",
   "metadata": {},
   "source": [
    " <i> In case, wrong table name is provided, it will throw below error message. </i>"
   ]
  },
  {
   "cell_type": "code",
   "execution_count": 11,
   "id": "eb694b16",
   "metadata": {},
   "outputs": [
    {
     "name": "stdout",
     "output_type": "stream",
     "text": [
      "Table name: \u001b[1mstudentsdata\u001b[0m Not Found, Please enter correct table name. \n"
     ]
    }
   ],
   "source": [
    "db.select(\"select Name,age from studentsData\",5)"
   ]
  },
  {
   "cell_type": "markdown",
   "id": "ea925696",
   "metadata": {},
   "source": [
    "### Reading another table in same database\n",
    "Here we will read another table called \"users\" from userData.csv file using the same db object. i.e in same database"
   ]
  },
  {
   "cell_type": "code",
   "execution_count": 12,
   "id": "0da9e3a0",
   "metadata": {},
   "outputs": [],
   "source": [
    "db.read(\"users\", \"userData.csv\")"
   ]
  },
  {
   "cell_type": "markdown",
   "id": "a0d68287",
   "metadata": {},
   "source": [
    "### Getting another table output using select() function\n",
    "Here we pass query for another table using \"select * from users\" which prints all the data in the table."
   ]
  },
  {
   "cell_type": "code",
   "execution_count": 13,
   "id": "3c122c05",
   "metadata": {
    "scrolled": true
   },
   "outputs": [
    {
     "name": "stdout",
     "output_type": "stream",
     "text": [
      "\u001b[1mID \t\t\u001b[1mName \t\t\u001b[1mCity \t\t\u001b[1mNation \t\t\u001b[1mLanguage \t\t\n",
      "\n",
      "\u001b[0m1 \t\t\u001b[0mJason \t\t\u001b[0mRegina \t\t\u001b[0mCanada \t\t\u001b[0mFrench \t\t\n",
      "\n",
      "\u001b[0m2 \t\t\u001b[0mGordan \t\t\u001b[0mSurrey \t\t\u001b[0mUK \t\t\u001b[0mEnglish \t\t\n",
      "\n",
      "\u001b[0m3 \t\t\u001b[0mHarry \t\t\u001b[0mDenver \t\t\u001b[0mUS \t\t\u001b[0mEnglish \t\t\n",
      "\n",
      "\u001b[0m4 \t\t\u001b[0mRahul \t\t\u001b[0mDelhi \t\t\u001b[0mIndia \t\t\u001b[0mHindi \t\t\n",
      "\n",
      "\u001b[0m5 \t\t\u001b[0mMatt \t\t\u001b[0mDubai \t\t\u001b[0mUAE \t\t\u001b[0mArabic \t\t\n",
      "\n",
      "\u001b[0m6 \t\t\u001b[0mSean \t\t\u001b[0mParis \t\t\u001b[0mFrance \t\t\u001b[0mFrench \t\t\n",
      "\n",
      "\n"
     ]
    }
   ],
   "source": [
    "db.select(\"select * from users\")"
   ]
  },
  {
   "cell_type": "markdown",
   "id": "a9e198eb",
   "metadata": {},
   "source": [
    "#### Passing query with attribute names and count for another table"
   ]
  },
  {
   "cell_type": "code",
   "execution_count": 14,
   "id": "81a6383f",
   "metadata": {},
   "outputs": [
    {
     "name": "stdout",
     "output_type": "stream",
     "text": [
      "\u001b[1mName \t\t\u001b[1mCity \t\t\u001b[1mNation \t\t\n",
      "\n",
      "\u001b[0mJason \t\t\u001b[0mRegina \t\t\u001b[0mCanada \t\t\n",
      "\n",
      "\u001b[0mGordan \t\t\u001b[0mSurrey \t\t\u001b[0mUK \t\t\n",
      "\n",
      "\u001b[0mHarry \t\t\u001b[0mDenver \t\t\u001b[0mUS \t\t\n",
      "\n",
      "\n"
     ]
    }
   ],
   "source": [
    "db.select(\"select name,city,nation from users\",3)"
   ]
  },
  {
   "cell_type": "markdown",
   "id": "491f5da4",
   "metadata": {},
   "source": [
    "#### ~ Thanks! <br><br> Harpreet Singh"
   ]
  },
  {
   "cell_type": "code",
   "execution_count": null,
   "id": "4dd72b4a",
   "metadata": {},
   "outputs": [],
   "source": []
  },
  {
   "cell_type": "code",
   "execution_count": null,
   "id": "1cc44704",
   "metadata": {},
   "outputs": [],
   "source": []
  },
  {
   "cell_type": "code",
   "execution_count": null,
   "id": "531a7ac8",
   "metadata": {},
   "outputs": [],
   "source": []
  },
  {
   "cell_type": "code",
   "execution_count": null,
   "id": "b916cb7e",
   "metadata": {},
   "outputs": [],
   "source": []
  }
 ],
 "metadata": {
  "kernelspec": {
   "display_name": "Python 3",
   "language": "python",
   "name": "python3"
  },
  "language_info": {
   "codemirror_mode": {
    "name": "ipython",
    "version": 3
   },
   "file_extension": ".py",
   "mimetype": "text/x-python",
   "name": "python",
   "nbconvert_exporter": "python",
   "pygments_lexer": "ipython3",
   "version": "3.8.8"
  }
 },
 "nbformat": 4,
 "nbformat_minor": 5
}
